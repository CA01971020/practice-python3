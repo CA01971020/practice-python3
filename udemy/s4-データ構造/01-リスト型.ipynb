{
 "cells": [
  {
   "cell_type": "code",
   "execution_count": 7,
   "metadata": {},
   "outputs": [
    {
     "name": "stdout",
     "output_type": "stream",
     "text": [
      "[1, 20, 3, 50, 4, 3]\n",
      "1\n",
      "[1, 20]\n",
      "6\n"
     ]
    }
   ],
   "source": [
    "# リスト型（配列）\n",
    "l = [1,20,3,50,4,3]\n",
    "print(l)\n",
    "# インデックスで指定して出力\n",
    "print(l[0]) # 配列0番目の数字”1”を出力\n",
    "print(l[0:2])\n",
    "print(len(l)) # length関数も使える"
   ]
  },
  {
   "cell_type": "code",
   "execution_count": 6,
   "metadata": {},
   "outputs": [
    {
     "name": "stdout",
     "output_type": "stream",
     "text": [
      "<class 'list'>\n"
     ]
    }
   ],
   "source": [
    "# 型確認\n",
    "l = [1,20,3,50,4,3]\n",
    "print(type(l)) # リスト型"
   ]
  },
  {
   "cell_type": "code",
   "execution_count": 9,
   "metadata": {},
   "outputs": [
    {
     "name": "stdout",
     "output_type": "stream",
     "text": [
      "[1, 3, 5, 7, 9, 11, 13, 15]\n"
     ]
    }
   ],
   "source": [
    "# １つ飛ばしで出力する場合\n",
    "n = [1,2,3,4,5,6,7,8,9,10,11,12,13,14,15,16]\n",
    "print(n[::2])"
   ]
  },
  {
   "cell_type": "code",
   "execution_count": 11,
   "metadata": {},
   "outputs": [
    {
     "name": "stdout",
     "output_type": "stream",
     "text": [
      "[16, 15, 14, 13, 12, 11, 10, 9, 8, 7, 6, 5, 4, 3, 2, 1]\n"
     ]
    }
   ],
   "source": [
    "# 逆順で出力する場合\n",
    "n = [1,2,3,4,5,6,7,8,9,10,11,12,13,14,15,16]\n",
    "print(n[::-1])"
   ]
  },
  {
   "cell_type": "code",
   "execution_count": 14,
   "metadata": {},
   "outputs": [
    {
     "name": "stdout",
     "output_type": "stream",
     "text": [
      "[['a', 'b', 'c'], [1, 2, 3]]\n",
      "['a', 'b', 'c']\n",
      "b\n"
     ]
    }
   ],
   "source": [
    "# ネストさせた配列\n",
    " #基本情報の内容\n",
    "a = [\"a\",\"b\",\"c\"]\n",
    "n = [1,2,3]\n",
    "X = [a , n] #X配列に格納されたaとnになる\n",
    "print(X)\n",
    "print(X[0]) #Xに格納された0番目の要素はaであるためaが出力される\n",
    "\n",
    "# 配列aの\"b\"を出力したい場合\n",
    "print(X[0][1]) #Xに格納された0番目の要素aに格納された1番目の要素\"b\"を出力"
   ]
  }
 ],
 "metadata": {
  "kernelspec": {
   "display_name": "Python 3",
   "language": "python",
   "name": "python3"
  },
  "language_info": {
   "codemirror_mode": {
    "name": "ipython",
    "version": 3
   },
   "file_extension": ".py",
   "mimetype": "text/x-python",
   "name": "python",
   "nbconvert_exporter": "python",
   "pygments_lexer": "ipython3",
   "version": "3.11.9"
  }
 },
 "nbformat": 4,
 "nbformat_minor": 2
}
