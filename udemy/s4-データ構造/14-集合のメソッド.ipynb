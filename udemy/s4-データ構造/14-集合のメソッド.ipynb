{
 "cells": [
  {
   "cell_type": "code",
   "execution_count": 9,
   "metadata": {},
   "outputs": [
    {
     "name": "stdout",
     "output_type": "stream",
     "text": [
      "{1, 2, 3, 4, 5, 6}\n",
      "{1, 2, 3, 4, 5}\n",
      "set()\n"
     ]
    }
   ],
   "source": [
    "#集合にはインデックスがない\n",
    "s = {1,2,3,4,5}\n",
    "# エラー\n",
    "# print(s[0])\n",
    "\n",
    "# addメソッド\n",
    "s.add(6)\n",
    "#二回同じ6を追加しようとしても集合なので出力は1つ\n",
    "s.add(6)\n",
    "print(s)\n",
    "\n",
    "# removeメソッド\n",
    "s.remove(6)\n",
    "print(s)\n",
    "\n",
    "# clearメソッド\n",
    "s.clear()\n",
    "print(s)"
   ]
  }
 ],
 "metadata": {
  "kernelspec": {
   "display_name": "Python 3",
   "language": "python",
   "name": "python3"
  },
  "language_info": {
   "codemirror_mode": {
    "name": "ipython",
    "version": 3
   },
   "file_extension": ".py",
   "mimetype": "text/x-python",
   "name": "python",
   "nbconvert_exporter": "python",
   "pygments_lexer": "ipython3",
   "version": "3.11.9"
  }
 },
 "nbformat": 4,
 "nbformat_minor": 2
}
