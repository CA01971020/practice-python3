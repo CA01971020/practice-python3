{
 "cells": [
  {
   "cell_type": "code",
   "execution_count": 2,
   "metadata": {},
   "outputs": [
    {
     "name": "stdout",
     "output_type": "stream",
     "text": [
      "{1, 2, 3, 4, 5, 6}\n",
      "<class 'set'>\n"
     ]
    }
   ],
   "source": [
    "# 鍵括弧\n",
    "a = {1,2,3,4,4,4,5,6}\n",
    "\n",
    "#重複がなくなっている\n",
    "print(a)\n",
    "print(type(a))"
   ]
  },
  {
   "cell_type": "code",
   "execution_count": 8,
   "metadata": {},
   "outputs": [
    {
     "name": "stdout",
     "output_type": "stream",
     "text": [
      "{1, 2, 3, 6, 7}\n",
      "{4, 5}\n",
      "{7}\n",
      "{1, 2, 3, 6}\n",
      "{1, 2, 3, 4, 5, 6, 7}\n",
      "{4, 5, 7}\n"
     ]
    }
   ],
   "source": [
    "a = {1,2,3,4,4,4,5,6}\n",
    "b = {1,2,3,3,6,7}\n",
    "print(b)\n",
    "\n",
    "#aに入っているものから、bを取り除く\n",
    "print(a-b)\n",
    "#bに入っているものから、aを取り除く\n",
    "print(b-a)\n",
    "\n",
    "# aとb両方にあるもの\n",
    "print(a&b)\n",
    "\n",
    "# aまたはbにあるもの(aとbの合計)\n",
    "print(a|b)\n",
    "\n",
    "# aの排他のb\n",
    "print(a^b)"
   ]
  }
 ],
 "metadata": {
  "kernelspec": {
   "display_name": "Python 3",
   "language": "python",
   "name": "python3"
  },
  "language_info": {
   "codemirror_mode": {
    "name": "ipython",
    "version": 3
   },
   "file_extension": ".py",
   "mimetype": "text/x-python",
   "name": "python",
   "nbconvert_exporter": "python",
   "pygments_lexer": "ipython3",
   "version": "3.11.9"
  }
 },
 "nbformat": 4,
 "nbformat_minor": 2
}
