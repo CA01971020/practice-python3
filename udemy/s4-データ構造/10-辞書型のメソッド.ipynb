{
 "cells": [
  {
   "cell_type": "code",
   "execution_count": 3,
   "metadata": {},
   "outputs": [
    {
     "name": "stdout",
     "output_type": "stream",
     "text": [
      "dict_keys(['x', 'y'])\n",
      "dict_values([10, 20])\n"
     ]
    }
   ],
   "source": [
    "d = {\"x\":10,\"y\":20}\n",
    "\n",
    "# keysメソッド\n",
    "print(d.keys())\n",
    "\n",
    "# valuesメソッド\n",
    "print(d.values())"
   ]
  },
  {
   "cell_type": "code",
   "execution_count": 15,
   "metadata": {},
   "outputs": [
    {
     "name": "stdout",
     "output_type": "stream",
     "text": [
      "{'x': 1000, 'j': 500}\n",
      "{'x': 1000, 'y': 20, 'j': 500}\n",
      "1000\n",
      "1000\n",
      "{'y': 20, 'j': 500}\n",
      "{'j': 500}\n",
      "{}\n",
      "True\n"
     ]
    }
   ],
   "source": [
    "#updateメソッド\n",
    "d = {\"x\":10,\"y\":20}\n",
    "d2 = dict(x=1000,j=500)\n",
    "print(d2)\n",
    "d.update(d2) #dをd2でアップデート（上書きする）\n",
    "print(d)\n",
    "\n",
    "# getメソッド（表示）\n",
    "print(d.get(\"x\"))\n",
    "\n",
    "# popメソッド（取り出し）\n",
    "print(d.pop(\"x\"))\n",
    "print(d)\n",
    "\n",
    "# delメソッド（削除）\n",
    "del d[\"y\"] #\"y\"を削除\n",
    "print(d)\n",
    "\n",
    "# clearメソッド\n",
    "d.clear()\n",
    "print(d)\n",
    "\n",
    "# inメソッド\n",
    "d = {\"a\":200,\"b\":300}\n",
    "print(\"a\" in d) #d変数にはaが入っているか"
   ]
  }
 ],
 "metadata": {
  "kernelspec": {
   "display_name": "Python 3",
   "language": "python",
   "name": "python3"
  },
  "language_info": {
   "codemirror_mode": {
    "name": "ipython",
    "version": 3
   },
   "file_extension": ".py",
   "mimetype": "text/x-python",
   "name": "python",
   "nbconvert_exporter": "python",
   "pygments_lexer": "ipython3",
   "version": "3.11.9"
  }
 },
 "nbformat": 4,
 "nbformat_minor": 2
}
