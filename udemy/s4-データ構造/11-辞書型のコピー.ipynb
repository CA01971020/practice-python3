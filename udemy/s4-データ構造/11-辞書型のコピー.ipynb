{
 "cells": [
  {
   "cell_type": "code",
   "execution_count": 2,
   "metadata": {},
   "outputs": [
    {
     "name": "stdout",
     "output_type": "stream",
     "text": [
      "{'a': 1100} {'a': 1100}\n"
     ]
    }
   ],
   "source": [
    "# 参照渡し\n",
    "x = {\"a\":1}\n",
    "y = x\n",
    "y[\"a\"] = 1100\n",
    "print(x,y)"
   ]
  },
  {
   "cell_type": "code",
   "execution_count": 3,
   "metadata": {},
   "outputs": [
    {
     "name": "stdout",
     "output_type": "stream",
     "text": [
      "{'a': 1} {'a': 1100}\n"
     ]
    }
   ],
   "source": [
    "# copyで参照渡しを回避\n",
    "x = {\"a\":1}\n",
    "y = x.copy()\n",
    "y[\"a\"] = 1100\n",
    "print(x,y)"
   ]
  }
 ],
 "metadata": {
  "kernelspec": {
   "display_name": "Python 3",
   "language": "python",
   "name": "python3"
  },
  "language_info": {
   "codemirror_mode": {
    "name": "ipython",
    "version": 3
   },
   "file_extension": ".py",
   "mimetype": "text/x-python",
   "name": "python",
   "nbconvert_exporter": "python",
   "pygments_lexer": "ipython3",
   "version": "3.11.9"
  }
 },
 "nbformat": 4,
 "nbformat_minor": 2
}
