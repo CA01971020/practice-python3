{
 "cells": [
  {
   "cell_type": "code",
   "execution_count": 23,
   "metadata": {},
   "outputs": [
    {
     "name": "stdout",
     "output_type": "stream",
     "text": [
      "['a', 'b', 'c', 'd', 'e', 'f', 'g']\n",
      "['X', 'b', 'c', 'd', 'e', 'f', 'g']\n",
      "['X', 'b', 'Q', 'W', 'E', 'f', 'g']\n",
      "['X', 'b', 'f', 'g']\n",
      "[]\n"
     ]
    }
   ],
   "source": [
    "#リストの書き換え\n",
    "s = [\"a\",\"b\",\"c\",\"d\",\"e\",\"f\",\"g\"]\n",
    "print(s)\n",
    "\n",
    "#配列sの0番目の要素を\"Ｘに書き換え\"\n",
    "su = s[0]=\"X\" #文字列の場合エラーだったが、配列の場合は書き換え可能\n",
    "print(s)\n",
    "\n",
    "#配列sを2:5でスライスしたcdeを大文字QWEに書き換え\n",
    "sus = s[2:5] = [\"Q\",\"W\",\"E\"]\n",
    "print(s)\n",
    "\n",
    "#配列sの2:5を空にする場合\n",
    "sd = s[2:5] = []\n",
    "print(s)\n",
    "\n",
    "#配列s全てを空にする場合\n",
    "d = s[:] = []\n",
    "print(s)"
   ]
  },
  {
   "cell_type": "code",
   "execution_count": 36,
   "metadata": {},
   "outputs": [
    {
     "name": "stdout",
     "output_type": "stream",
     "text": [
      "[1, 2, 3, 4, 5, 6, 7, 8, 9, 10]\n",
      "[1, 2, 3, 4, 5, 6, 7, 8, 9, 10, 100]\n",
      "[200, 1, 2, 3, 4, 5, 6, 7, 8, 9, 10, 100]\n",
      "[1, 3, 4, 5, 6, 7, 8, 9, 10]\n",
      "[1, 2, 3]\n"
     ]
    }
   ],
   "source": [
    "#データの追加\n",
    "n = [1,2,3,4,5,6,7,8,9,10]\n",
    "print(n)\n",
    "\n",
    "#配列の最後に\"100\"を追加\n",
    " ## appendメソッド\n",
    "n.append(100)\n",
    "print(n)\n",
    "\n",
    "#インデックスで指定して追加\n",
    " ## insertメソッド\n",
    "n.insert(0,200)\n",
    "print(n)\n",
    "\n",
    "#要素を取り出す場合\n",
    " ## popメソッド\n",
    "n.pop() #最初の要素が返ってきて、配列nから無くなる\n",
    "\n",
    " #インデックスで指定も可能\n",
    "n.pop(2) #配列の要素番号2の\"2\"を取り出す\n",
    "\n",
    "#要素の削除\n",
    " ## delメソッド\n",
    "del(n[0])\n",
    "print(n)\n",
    " ## removeメソッド\n",
    "nn = [1,2,2,3]\n",
    "nn.remove(2) #配列の\"2\"を削除する\n",
    "# nn.remove(2)\n",
    "# nn.remove(2)#配列の\"2\"が存在しなくなったのでValueErrorが出力\n",
    "print(nn)"
   ]
  },
  {
   "cell_type": "code",
   "execution_count": 40,
   "metadata": {},
   "outputs": [
    {
     "name": "stdout",
     "output_type": "stream",
     "text": [
      "[1, 2, 3, 4, 5, 6, 7, 8, 9, 10]\n",
      "[1, 2, 3, 4, 5, 6, 7, 8, 9, 10]\n",
      "[1, 2, 3, 4, 5, 6, 7, 8, 9, 10]\n"
     ]
    }
   ],
   "source": [
    "# リストの結合\n",
    " ## 基本\n",
    "a = [1,2,3,4,5]\n",
    "b = [6,7,8,9,10]\n",
    "X = a + b\n",
    "print(X)\n",
    "\n",
    "# aにbの配列を格納（結合）したい場合\n",
    "a += b\n",
    "print(a)\n",
    "\n",
    "#extendメソッドで結合\n",
    "g = [1,2,3,4,5]\n",
    "h = [6,7,8,9,10]\n",
    "g.extend(h) #配列gに配列hを結合する\n",
    "print(g)"
   ]
  }
 ],
 "metadata": {
  "kernelspec": {
   "display_name": "Python 3",
   "language": "python",
   "name": "python3"
  },
  "language_info": {
   "codemirror_mode": {
    "name": "ipython",
    "version": 3
   },
   "file_extension": ".py",
   "mimetype": "text/x-python",
   "name": "python",
   "nbconvert_exporter": "python",
   "pygments_lexer": "ipython3",
   "version": "3.11.9"
  }
 },
 "nbformat": 4,
 "nbformat_minor": 2
}
