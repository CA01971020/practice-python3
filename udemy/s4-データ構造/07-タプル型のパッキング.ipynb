{
 "cells": [
  {
   "cell_type": "code",
   "execution_count": 3,
   "metadata": {},
   "outputs": [
    {
     "name": "stdout",
     "output_type": "stream",
     "text": [
      "(10, 20)\n",
      "10 20\n",
      "10 20\n",
      "0 100\n",
      "<class 'int'> <class 'int'>\n"
     ]
    }
   ],
   "source": [
    "num_tuple = (10,20)\n",
    "print(num_tuple)\n",
    "\n",
    "# アンパッキング\n",
    "x,y=num_tuple #10と20がxとyに入る（展開）\n",
    "print(x,y)\n",
    "\n",
    "x,y=(10,20) #これと同じ\n",
    "print(x,y)\n",
    "\n",
    "min,max = 0,100\n",
    "print(min,max)\n",
    "print(type(min),type(max))\n"
   ]
  },
  {
   "cell_type": "code",
   "execution_count": 5,
   "metadata": {},
   "outputs": [
    {
     "name": "stdout",
     "output_type": "stream",
     "text": [
      "20 10\n",
      "100 200\n",
      "200 100\n"
     ]
    }
   ],
   "source": [
    "# アンパッキングで数字の入れ替え\n",
    "\n",
    "## 通常の入れ替え\n",
    "i = 10\n",
    "j = 20\n",
    "tmp = i\n",
    "i = j\n",
    "j = tmp\n",
    "print(i,j)\n",
    "\n",
    "## アンパッキングでの入れ替え\n",
    "### 便利\n",
    "a = 100\n",
    "b = 200\n",
    "print(a,b)\n",
    "a,b = b,a\n",
    "print(a,b)"
   ]
  }
 ],
 "metadata": {
  "kernelspec": {
   "display_name": "Python 3",
   "language": "python",
   "name": "python3"
  },
  "language_info": {
   "codemirror_mode": {
    "name": "ipython",
    "version": 3
   },
   "file_extension": ".py",
   "mimetype": "text/x-python",
   "name": "python",
   "nbconvert_exporter": "python",
   "pygments_lexer": "ipython3",
   "version": "3.11.9"
  }
 },
 "nbformat": 4,
 "nbformat_minor": 2
}
