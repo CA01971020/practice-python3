{
 "cells": [
  {
   "cell_type": "code",
   "execution_count": null,
   "metadata": {},
   "outputs": [
    {
     "name": "stdout",
     "output_type": "stream",
     "text": [
      "<class 'tuple'>\n"
     ]
    },
    {
     "ename": "TypeError",
     "evalue": "'tuple' object does not support item assignment",
     "output_type": "error",
     "traceback": [
      "\u001b[1;31m---------------------------------------------------------------------------\u001b[0m",
      "\u001b[1;31mTypeError\u001b[0m                                 Traceback (most recent call last)",
      "Cell \u001b[1;32mIn[2], line 5\u001b[0m\n\u001b[0;32m      2\u001b[0m t \u001b[38;5;241m=\u001b[39m (\u001b[38;5;241m1\u001b[39m,\u001b[38;5;241m2\u001b[39m,\u001b[38;5;241m3\u001b[39m,\u001b[38;5;241m4\u001b[39m,\u001b[38;5;241m5\u001b[39m)\n\u001b[0;32m      3\u001b[0m \u001b[38;5;28mprint\u001b[39m(\u001b[38;5;28mtype\u001b[39m(t))\n\u001b[1;32m----> 5\u001b[0m \u001b[43mt\u001b[49m\u001b[43m[\u001b[49m\u001b[38;5;241;43m0\u001b[39;49m\u001b[43m]\u001b[49m \u001b[38;5;241m=\u001b[39m \u001b[38;5;241m100\u001b[39m\n\u001b[0;32m      6\u001b[0m \u001b[38;5;28mprint\u001b[39m(t)\n",
      "\u001b[1;31mTypeError\u001b[0m: 'tuple' object does not support item assignment"
     ]
    }
   ],
   "source": [
    "# タプル型\n",
    "t = (1,2,3,4,5)\n",
    "print(type(t))\n",
    "\n",
    "# タプル型は、新しく値を代入することだできない\n",
    "t[0] = 100\n",
    "print(t) #エラーになる"
   ]
  },
  {
   "cell_type": "markdown",
   "metadata": {},
   "source": [
    "## タプル型について\n",
    "タプル型でもメソッドは色々と使えるが、値を代入できない仕様から、メソッドにも制限がかかっている。  \n",
    "そのため、読み込み専用で使うケースが多い。"
   ]
  },
  {
   "cell_type": "code",
   "execution_count": 7,
   "metadata": {},
   "outputs": [
    {
     "name": "stdout",
     "output_type": "stream",
     "text": [
      "([1, 2, 3], [4, 5, 6])\n",
      "([100, 2, 3], [4, 5, 6])\n",
      "<class 'tuple'>\n",
      "(1, 2, 3)\n"
     ]
    }
   ],
   "source": [
    "#タプル型のリスト\n",
    "t = ([1,2,3],[4,5,6])\n",
    "print(t)\n",
    "\n",
    "# リストのインデックスを指定する場合は大丈夫\n",
    "t[0][0] = 100\n",
    "print(t)\n",
    "\n",
    "# 省略記法\n",
    "t = 1,2,3 #タプル型は、カンマが付いた時点でタプルとなる\n",
    "print(type(t))\n",
    "print(t)"
   ]
  },
  {
   "cell_type": "code",
   "execution_count": 9,
   "metadata": {},
   "outputs": [
    {
     "name": "stdout",
     "output_type": "stream",
     "text": [
      "<class 'int'>\n",
      "<class 'tuple'>\n"
     ]
    }
   ],
   "source": [
    "# タプル型の気を付けるところ\n",
    "t = 1\n",
    "print(type(t)) #int型\n",
    "\n",
    "#間違ってカンマがつくとtuple型となって代入不可になる\n",
    "t = 1,\n",
    "print(type(t)) #tuple型"
   ]
  },
  {
   "cell_type": "code",
   "execution_count": 12,
   "metadata": {},
   "outputs": [
    {
     "name": "stdout",
     "output_type": "stream",
     "text": [
      "<class 'tuple'>\n",
      "<class 'int'>\n",
      "<class 'str'>\n",
      "<class 'tuple'>\n"
     ]
    }
   ],
   "source": [
    "# タプル型はカンマが条件なので、カンマが必要\n",
    "\n",
    "#空の場合はタプル型\n",
    "t = () \n",
    "print(type(t))\n",
    "\n",
    "# カンマがない数字はint型\n",
    "t = (1)\n",
    "print(type(t))\n",
    "\n",
    "# カンマがない文字列はstr型\n",
    "t = (\"文字\")\n",
    "print(type(t))\n",
    "\n",
    "# カンマがあればタプル型\n",
    "t = (\"文字\",)\n",
    "print(type(t))"
   ]
  },
  {
   "cell_type": "code",
   "execution_count": 13,
   "metadata": {},
   "outputs": [
    {
     "name": "stdout",
     "output_type": "stream",
     "text": [
      "(1, 2, 3, 4, 5, 6)\n",
      "<class 'tuple'>\n"
     ]
    }
   ],
   "source": [
    "#タプル型同士の足し算などは可能だが、一方の型が違うとエラーになる\n",
    "\n",
    "new_tuple = (1,2,3) + (4,5,6)\n",
    "print(new_tuple)\n",
    "print(type(new_tuple))"
   ]
  }
 ],
 "metadata": {
  "kernelspec": {
   "display_name": "Python 3",
   "language": "python",
   "name": "python3"
  },
  "language_info": {
   "codemirror_mode": {
    "name": "ipython",
    "version": 3
   },
   "file_extension": ".py",
   "mimetype": "text/x-python",
   "name": "python",
   "nbconvert_exporter": "python",
   "pygments_lexer": "ipython3",
   "version": "3.11.9"
  }
 },
 "nbformat": 4,
 "nbformat_minor": 2
}
