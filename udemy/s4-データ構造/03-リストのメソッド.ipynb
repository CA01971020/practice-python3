{
 "cells": [
  {
   "cell_type": "code",
   "execution_count": 12,
   "metadata": {},
   "outputs": [
    {
     "name": "stdout",
     "output_type": "stream",
     "text": [
      "2\n",
      "7\n"
     ]
    }
   ],
   "source": [
    "# indexメソッド\n",
    "l = [1,2,3,4,5,1,2,3]\n",
    "print(l.index(3,2)) #要素3を要素番号2から探す。出力は2\n",
    "print(l.index(3,4)) #要素3を要素番号4から探す。出力は7"
   ]
  },
  {
   "cell_type": "code",
   "execution_count": 15,
   "metadata": {},
   "outputs": [
    {
     "name": "stdout",
     "output_type": "stream",
     "text": [
      "2\n",
      "exist\n"
     ]
    }
   ],
   "source": [
    "# countメソッド\n",
    "l = [1,2,3,4,5,1,2,3]\n",
    "print(l.count(3)) #3がリストにどれくらい含まれているか\n",
    "\n",
    "#if分で探す\n",
    "if 5 in l:\n",
    "    print(\"exist\") #5がlのリストに含まれているのでexistが表示"
   ]
  },
  {
   "cell_type": "code",
   "execution_count": 18,
   "metadata": {},
   "outputs": [
    {
     "name": "stdout",
     "output_type": "stream",
     "text": [
      "[1, 1, 1, 1, 1, 2, 2, 3, 3, 4, 5]\n",
      "[5, 4, 3, 3, 2, 2, 1, 1, 1, 1, 1]\n",
      "[1, 1, 1, 1, 1, 2, 2, 3, 3, 4, 5]\n"
     ]
    }
   ],
   "source": [
    "# sortメソッド\n",
    "## 綺麗に並べてくれる\n",
    "l = [1,2,3,4,5,1,2,3,1,1,1]\n",
    "l.sort()\n",
    "print(l)\n",
    "\n",
    "# reverse関数\n",
    "## 逆順\n",
    "l.sort(reverse=True)\n",
    "print(l)\n",
    "l.reverse()\n",
    "print(l)"
   ]
  },
  {
   "cell_type": "code",
   "execution_count": 21,
   "metadata": {},
   "outputs": [
    {
     "name": "stdout",
     "output_type": "stream",
     "text": [
      "['My', 'name', 'is', 'Mike.']\n",
      "My name is Mike.\n",
      "My####name####is####Mike.\n"
     ]
    }
   ],
   "source": [
    "# splitメソッド\n",
    "s = \"My name is Mike.\"\n",
    "to_split = s.split(\" \") #空白を区切ってリストに入れてくれる\n",
    "print(to_split)\n",
    "\n",
    "# joinメソッド（結合）\n",
    "x = \" \".join(to_split) #空白で繋げて表示\n",
    "print(x)\n",
    "\n",
    "x = \"####\".join(to_split) # ####で繋げて表示\n",
    "print(x)"
   ]
  },
  {
   "cell_type": "code",
   "execution_count": null,
   "metadata": {},
   "outputs": [],
   "source": [
    "print(help(list))"
   ]
  }
 ],
 "metadata": {
  "kernelspec": {
   "display_name": "Python 3",
   "language": "python",
   "name": "python3"
  },
  "language_info": {
   "codemirror_mode": {
    "name": "ipython",
    "version": 3
   },
   "file_extension": ".py",
   "mimetype": "text/x-python",
   "name": "python",
   "nbconvert_exporter": "python",
   "pygments_lexer": "ipython3",
   "version": "3.11.9"
  }
 },
 "nbformat": 4,
 "nbformat_minor": 2
}
