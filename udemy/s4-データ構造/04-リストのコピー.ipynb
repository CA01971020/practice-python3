{
 "cells": [
  {
   "cell_type": "markdown",
   "metadata": {},
   "source": [
    "Pythonのリストをコピーする際は、参照渡しか値渡しか理解しておかないとバグの原因になり得るので気を付けること。"
   ]
  },
  {
   "cell_type": "code",
   "execution_count": 19,
   "metadata": {},
   "outputs": [
    {
     "name": "stdout",
     "output_type": "stream",
     "text": [
      "j= [100, 2, 3, 4, 5]\n",
      "i= [100, 2, 3, 4, 5]\n"
     ]
    }
   ],
   "source": [
    "#リストのコピー\n",
    "i = [1,2,3,4,5,]\n",
    "j = i #このやり方は推奨されない\n",
    "j[0] = 100 #jに100を入れたら、iにも100が入ってしまう \n",
    "print(\"j=\",j)\n",
    "print(\"i=\",i)"
   ]
  },
  {
   "cell_type": "code",
   "execution_count": 20,
   "metadata": {},
   "outputs": [
    {
     "name": "stdout",
     "output_type": "stream",
     "text": [
      "[1, 2, 3, 4, 5]\n",
      "[100, 2, 3, 4, 5]\n"
     ]
    }
   ],
   "source": [
    "# copy\n",
    "## こちらのやり方が良い\n",
    "x = [1,2,3,4,5]\n",
    "y = x.copy()\n",
    "y[0] = 100\n",
    "print(x)\n",
    "print(y)"
   ]
  },
  {
   "cell_type": "code",
   "execution_count": 21,
   "metadata": {},
   "outputs": [
    {
     "name": "stdout",
     "output_type": "stream",
     "text": [
      "5\n",
      "20\n",
      "140720470390152\n",
      "140720470389672\n"
     ]
    }
   ],
   "source": [
    "# 値渡し\n",
    "X = 20\n",
    "Y = X\n",
    "Y = 5\n",
    "print(Y)\n",
    "print(X)\n",
    "\n",
    "# id で見てみるとオブジェクトのidが微妙に違うことが分かる\n",
    "print(id(X)) \n",
    "print(id(Y))"
   ]
  },
  {
   "cell_type": "code",
   "execution_count": 22,
   "metadata": {},
   "outputs": [
    {
     "name": "stdout",
     "output_type": "stream",
     "text": [
      "['b', 'b']\n",
      "['b', 'b']\n",
      "2291054932096\n",
      "2291054932096\n"
     ]
    }
   ],
   "source": [
    "# 参照渡し\n",
    "## 理解が必要\n",
    "X = [\"a\",\"b\"]\n",
    "Y = X\n",
    "Y[0] = \"b\"\n",
    "print(Y)\n",
    "print(X)\n",
    "\n",
    "#リストでは同じオブジェクトidになっているため、同じ場所に保存されているということが分かる\n",
    "print(id(X)) \n",
    "print(id(Y))"
   ]
  }
 ],
 "metadata": {
  "kernelspec": {
   "display_name": "Python 3",
   "language": "python",
   "name": "python3"
  },
  "language_info": {
   "codemirror_mode": {
    "name": "ipython",
    "version": 3
   },
   "file_extension": ".py",
   "mimetype": "text/x-python",
   "name": "python",
   "nbconvert_exporter": "python",
   "pygments_lexer": "ipython3",
   "version": "3.11.9"
  }
 },
 "nbformat": 4,
 "nbformat_minor": 2
}
