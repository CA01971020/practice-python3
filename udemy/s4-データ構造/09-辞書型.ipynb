{
 "cells": [
  {
   "cell_type": "code",
   "execution_count": 10,
   "metadata": {},
   "outputs": [
    {
     "name": "stdout",
     "output_type": "stream",
     "text": [
      "{'x': 10, 'y': 20}\n",
      "<class 'dict'>\n",
      "10\n",
      "20\n",
      "{'x': 100, 'y': 20}\n",
      "{'x': 100, 'y': 'YYYY'}\n",
      "{'x': 100, 'y': 'YYYY', 'z': 'zzzz'}\n"
     ]
    }
   ],
   "source": [
    "# 辞書型\n",
    "d = { \"x\":10 , \"y\":20}\n",
    "print(d)\n",
    "\n",
    "print(type(d)) #dict型（辞書型）\n",
    "\n",
    "print(d[\"x\"])\n",
    "print(d[\"y\"])\n",
    "\n",
    "d[\"x\"] = 100\n",
    "print(d)\n",
    "\n",
    "d[\"y\"] = \"YYYY\"\n",
    "print(d)\n",
    "\n",
    "d[\"z\"] = \"zzzz\"\n",
    "print(d)"
   ]
  },
  {
   "cell_type": "code",
   "execution_count": 9,
   "metadata": {},
   "outputs": [
    {
     "data": {
      "text/plain": [
       "{'a': 10, 'b': 20}"
      ]
     },
     "execution_count": 9,
     "metadata": {},
     "output_type": "execute_result"
    }
   ],
   "source": [
    "#辞書型の生成方法\n",
    "\n",
    "dict(a=10,b=20)"
   ]
  }
 ],
 "metadata": {
  "kernelspec": {
   "display_name": "Python 3",
   "language": "python",
   "name": "python3"
  },
  "language_info": {
   "codemirror_mode": {
    "name": "ipython",
    "version": 3
   },
   "file_extension": ".py",
   "mimetype": "text/x-python",
   "name": "python",
   "nbconvert_exporter": "python",
   "pygments_lexer": "ipython3",
   "version": "3.11.9"
  }
 },
 "nbformat": 4,
 "nbformat_minor": 2
}
