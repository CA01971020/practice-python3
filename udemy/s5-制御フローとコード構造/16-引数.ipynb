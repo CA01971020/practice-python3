{
 "cells": [
  {
   "cell_type": "code",
   "execution_count": 7,
   "metadata": {},
   "outputs": [
    {
     "name": "stdout",
     "output_type": "stream",
     "text": [
      "beef\n",
      "beer\n",
      "ice\n"
     ]
    }
   ],
   "source": [
    "#引数の基本\n",
    "## 設定した引数順に入力される\n",
    "def menu(entree,drink,desert):\n",
    "    print(entree)\n",
    "    print(drink)\n",
    "    print(desert)\n",
    "\n",
    "menu(\"beef\",\"beer\",\"ice\")"
   ]
  },
  {
   "cell_type": "code",
   "execution_count": 8,
   "metadata": {},
   "outputs": [
    {
     "name": "stdout",
     "output_type": "stream",
     "text": [
      "entree = beef\n",
      "drink = beer\n",
      "desert = ice\n"
     ]
    }
   ],
   "source": [
    "# 位置引数\n",
    "# 入力値を指定することもできる\n",
    "def menu(entree,drink,desert):\n",
    "    print(\"entree =\" ,entree)\n",
    "    print(\"drink =\" ,drink)\n",
    "    print(\"desert =\" ,desert)\n",
    "\n",
    "# 順序が変わっていても、設定した引数順に出力される\n",
    "menu(entree=\"beef\",desert=\"ice\",drink=\"beer\")"
   ]
  },
  {
   "cell_type": "code",
   "execution_count": 19,
   "metadata": {},
   "outputs": [
    {
     "name": "stdout",
     "output_type": "stream",
     "text": [
      "entree = beef\n",
      "drink = wine\n",
      "desert = ice\n",
      "-------\n",
      "entree = chiken\n",
      "drink = beer\n",
      "desert = ice\n"
     ]
    }
   ],
   "source": [
    "# default引数\n",
    "## 最初に入力しておくこともできる\n",
    "def menu(entree=\"beef\",drink=\"wine\",desert=\"ice\"):\n",
    "    print(\"entree =\" ,entree)\n",
    "    print(\"drink =\" ,drink)\n",
    "    print(\"desert =\" ,desert)\n",
    "\n",
    "menu()\n",
    "\n",
    "print(\"-------\")\n",
    "\n",
    "## 後から入力した値は、default引数を上書きする\n",
    "menu(\"chiken\",drink=\"beer\")"
   ]
  },
  {
   "cell_type": "code",
   "execution_count": 22,
   "metadata": {},
   "outputs": [
    {
     "name": "stdout",
     "output_type": "stream",
     "text": [
      "[100]\n",
      "[100, 100]\n"
     ]
    }
   ],
   "source": [
    "# default引数に空のリストを入れるべきではない\n",
    "## 参照渡しのものは引数に入れない\n",
    "def test_func(x, l=[]):\n",
    "    l.append(x)\n",
    "    return l\n",
    "\n",
    "r = test_func(100)\n",
    "print(r)\n",
    "r = test_func(100)\n",
    "print(r)"
   ]
  },
  {
   "cell_type": "code",
   "execution_count": 23,
   "metadata": {},
   "outputs": [
    {
     "name": "stdout",
     "output_type": "stream",
     "text": [
      "[100]\n",
      "[100]\n"
     ]
    }
   ],
   "source": [
    "# 上記の解決策\n",
    "## test_funcのlがNoneの時は空のリストを作成する\n",
    "def test_func(x, l=None):\n",
    "    if l is None:\n",
    "        l = []\n",
    "    l.append(x)\n",
    "    return l\n",
    "\n",
    "r = test_func(100)\n",
    "print(r)\n",
    "r = test_func(100)\n",
    "print(r)"
   ]
  }
 ],
 "metadata": {
  "kernelspec": {
   "display_name": "Python 3",
   "language": "python",
   "name": "python3"
  },
  "language_info": {
   "codemirror_mode": {
    "name": "ipython",
    "version": 3
   },
   "file_extension": ".py",
   "mimetype": "text/x-python",
   "name": "python",
   "nbconvert_exporter": "python",
   "pygments_lexer": "ipython3",
   "version": "3.11.9"
  }
 },
 "nbformat": 4,
 "nbformat_minor": 2
}
