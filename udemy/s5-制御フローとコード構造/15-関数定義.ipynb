{
 "cells": [
  {
   "cell_type": "code",
   "execution_count": 4,
   "metadata": {},
   "outputs": [
    {
     "name": "stdout",
     "output_type": "stream",
     "text": [
      "hi\n",
      "<class 'function'>\n",
      "hi\n"
     ]
    }
   ],
   "source": [
    "# 関数はdefで宣言\n",
    "def say_somthing():\n",
    "    print(\"hi\")\n",
    "#（）がないと出力できない\n",
    "say_somthing()\n",
    "say_somthing\n",
    "\n",
    "# 関数型\n",
    "print(type(say_somthing))\n",
    "\n",
    "# 変数に入れることができる\n",
    "f = say_somthing\n",
    "f()"
   ]
  },
  {
   "cell_type": "code",
   "execution_count": 6,
   "metadata": {},
   "outputs": [
    {
     "name": "stdout",
     "output_type": "stream",
     "text": [
      "hi\n"
     ]
    }
   ],
   "source": [
    "# 返り値\n",
    "def say_somthing():\n",
    "    ## 返り値はreturnで出力\n",
    "    s = \"hi\"\n",
    "    return s\n",
    "\n",
    "result = say_somthing()\n",
    "print(result)"
   ]
  },
  {
   "cell_type": "code",
   "execution_count": 10,
   "metadata": {},
   "outputs": [
    {
     "name": "stdout",
     "output_type": "stream",
     "text": [
      "tomato\n"
     ]
    }
   ],
   "source": [
    "# 引数\n",
    "\n",
    "def what_is_this(color):\n",
    "    if color == \"red\":\n",
    "        return \"tomato\"\n",
    "    elif color == \"green\":\n",
    "        return \"kyuri\"\n",
    "    else:\n",
    "        return \"I don't know\"\n",
    "\n",
    "result = what_is_this(\"red\")\n",
    "print(result)"
   ]
  },
  {
   "cell_type": "code",
   "execution_count": 13,
   "metadata": {},
   "outputs": [
    {
     "name": "stdout",
     "output_type": "stream",
     "text": [
      "30\n"
     ]
    }
   ],
   "source": [
    "# 型宣言もできるが、間違って入力してもエラーは出ないので注意\n",
    "def add_num(a:int,b:int) -> int:\n",
    "    return a + b\n",
    "\n",
    "result = add_num(10 , 20)\n",
    "print(result)"
   ]
  }
 ],
 "metadata": {
  "kernelspec": {
   "display_name": "Python 3",
   "language": "python",
   "name": "python3"
  },
  "language_info": {
   "codemirror_mode": {
    "name": "ipython",
    "version": 3
   },
   "file_extension": ".py",
   "mimetype": "text/x-python",
   "name": "python",
   "nbconvert_exporter": "python",
   "pygments_lexer": "ipython3",
   "version": "3.11.9"
  }
 },
 "nbformat": 4,
 "nbformat_minor": 2
}
