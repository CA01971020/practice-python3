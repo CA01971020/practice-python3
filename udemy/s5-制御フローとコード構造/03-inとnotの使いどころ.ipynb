{
 "cells": [
  {
   "cell_type": "code",
   "execution_count": 1,
   "metadata": {},
   "outputs": [
    {
     "name": "stdout",
     "output_type": "stream",
     "text": [
      "in\n",
      "not in\n"
     ]
    }
   ],
   "source": [
    "y = [1,2,3]\n",
    "x = 1\n",
    "\n",
    "#yにxが含まれている場合はinをprint\n",
    "if x in y:\n",
    "    print(\"in\")\n",
    "\n",
    "#yに100が含まれていなければnot inをprint\n",
    "if 100 not in y:\n",
    "    print(\"not in\")"
   ]
  },
  {
   "cell_type": "code",
   "execution_count": null,
   "metadata": {},
   "outputs": [],
   "source": [
    "is_ok = True\n",
    "\n",
    "#isokはtrueなので判定しなくていいが、否定する場合はnot\n",
    "if not is_ok:\n",
    "    print(\"hello\")"
   ]
  }
 ],
 "metadata": {
  "kernelspec": {
   "display_name": "Python 3",
   "language": "python",
   "name": "python3"
  },
  "language_info": {
   "codemirror_mode": {
    "name": "ipython",
    "version": 3
   },
   "file_extension": ".py",
   "mimetype": "text/x-python",
   "name": "python",
   "nbconvert_exporter": "python",
   "pygments_lexer": "ipython3",
   "version": "3.11.9"
  }
 },
 "nbformat": 4,
 "nbformat_minor": 2
}
