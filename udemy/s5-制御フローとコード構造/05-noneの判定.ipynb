{
 "cells": [
  {
   "cell_type": "markdown",
   "metadata": {},
   "source": [
    "## Noneについて\n",
    "NoneはNullオブジェクトで、実態がないもののこと（Null）  \n",
    "何も入れたくないときに使う"
   ]
  },
  {
   "cell_type": "code",
   "execution_count": 3,
   "metadata": {},
   "outputs": [
    {
     "name": "stdout",
     "output_type": "stream",
     "text": [
      "Help on NoneType object:\n",
      "\n",
      "class NoneType(object)\n",
      " |  Methods defined here:\n",
      " |  \n",
      " |  __bool__(self, /)\n",
      " |      True if self else False\n",
      " |  \n",
      " |  __repr__(self, /)\n",
      " |      Return repr(self).\n",
      " |  \n",
      " |  ----------------------------------------------------------------------\n",
      " |  Static methods defined here:\n",
      " |  \n",
      " |  __new__(*args, **kwargs)\n",
      " |      Create and return a new object.  See help(type) for accurate signature.\n",
      "\n",
      "None\n"
     ]
    }
   ],
   "source": [
    "is_empty = None\n",
    "print(help(is_empty))"
   ]
  },
  {
   "cell_type": "code",
   "execution_count": 7,
   "metadata": {},
   "outputs": [
    {
     "name": "stdout",
     "output_type": "stream",
     "text": [
      "None!\n",
      "None!\n"
     ]
    }
   ],
   "source": [
    "# この==記法はあまり推奨されていない\n",
    "if is_empty == None:\n",
    "    print(\"None!\")\n",
    "\n",
    "# isで判定を行う。\n",
    "if is_empty is None:\n",
    "    print(\"None!\")\n",
    "\n",
    "# notで否定すると何も表示されない\n",
    "if is_empty is not None:\n",
    "    print(\"None!\")"
   ]
  },
  {
   "cell_type": "code",
   "execution_count": 11,
   "metadata": {},
   "outputs": [
    {
     "name": "stdout",
     "output_type": "stream",
     "text": [
      "True\n",
      "False\n",
      "True\n",
      "True\n"
     ]
    },
    {
     "name": "stderr",
     "output_type": "stream",
     "text": [
      "<>:2: SyntaxWarning: \"is\" with a literal. Did you mean \"==\"?\n",
      "<>:2: SyntaxWarning: \"is\" with a literal. Did you mean \"==\"?\n",
      "C:\\Users\\01971020\\AppData\\Local\\Temp\\ipykernel_3520\\777655495.py:2: SyntaxWarning: \"is\" with a literal. Did you mean \"==\"?\n",
      "  print(1 is True)\n"
     ]
    }
   ],
   "source": [
    "# 数値判定の例\n",
    "print(1 == True)\n",
    "\n",
    "# isはオブジェクトの判定に使用するので、数値を判定するには使用しないほうがよい\n",
    "print(1 is True)\n",
    "\n",
    "# オブジェクトの判定の例\n",
    "print(True is True)\n",
    "print(None is None)"
   ]
  },
  {
   "cell_type": "code",
   "execution_count": 15,
   "metadata": {},
   "outputs": [
    {
     "name": "stdout",
     "output_type": "stream",
     "text": [
      "False\n",
      "True\n"
     ]
    }
   ],
   "source": [
    "a = 1\n",
    "b = 2\n",
    "c = None\n",
    "\n",
    "# 値の判定は符号\n",
    "print(a == b)\n",
    "# Noneの判定はis\n",
    "print(c is None)"
   ]
  }
 ],
 "metadata": {
  "kernelspec": {
   "display_name": "Python 3",
   "language": "python",
   "name": "python3"
  },
  "language_info": {
   "codemirror_mode": {
    "name": "ipython",
    "version": 3
   },
   "file_extension": ".py",
   "mimetype": "text/x-python",
   "name": "python",
   "nbconvert_exporter": "python",
   "pygments_lexer": "ipython3",
   "version": "3.11.9"
  }
 },
 "nbformat": 4,
 "nbformat_minor": 2
}
