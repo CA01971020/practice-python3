{
 "cells": [
  {
   "cell_type": "code",
   "execution_count": 2,
   "metadata": {},
   "outputs": [
    {
     "name": "stdout",
     "output_type": "stream",
     "text": [
      "beef coffee\n"
     ]
    }
   ],
   "source": [
    "# 基本のキーワード引数\n",
    "\n",
    "def menu(entree = \"beef\" ,drink = \"berr\"):\n",
    "    print(entree,drink)\n",
    "\n",
    "menu(entree=\"beef\",drink=\"coffee\")"
   ]
  },
  {
   "cell_type": "code",
   "execution_count": 4,
   "metadata": {},
   "outputs": [
    {
     "name": "stdout",
     "output_type": "stream",
     "text": [
      "{'entree': 'beef', 'drink': 'coffee'}\n",
      "entree beef\n",
      "drink coffee\n"
     ]
    }
   ],
   "source": [
    "# kwargs\n",
    "\n",
    "def menu(**kwargs):\n",
    "    print(kwargs)\n",
    "    for k , v in kwargs.items():\n",
    "        print(k,v)\n",
    "\n",
    "menu(entree=\"beef\",drink=\"coffee\")"
   ]
  },
  {
   "cell_type": "code",
   "execution_count": 6,
   "metadata": {},
   "outputs": [
    {
     "name": "stdout",
     "output_type": "stream",
     "text": [
      "ent test\n",
      "d dtest\n",
      "de detest\n"
     ]
    }
   ],
   "source": [
    "# 辞書\n",
    "\n",
    "def menu(**kwargs):\n",
    "    for k , v in kwargs.items():\n",
    "        print(k,v)\n",
    "\n",
    "# 辞書は見やすい\n",
    "d = {\n",
    "    \"ent\":\"test\",\n",
    "    \"d\":\"dtest\",\n",
    "    \"de\":\"detest\",\n",
    "}\n",
    "\n",
    "menu(**d)"
   ]
  }
 ],
 "metadata": {
  "kernelspec": {
   "display_name": "Python 3",
   "language": "python",
   "name": "python3"
  },
  "language_info": {
   "codemirror_mode": {
    "name": "ipython",
    "version": 3
   },
   "file_extension": ".py",
   "mimetype": "text/x-python",
   "name": "python",
   "nbconvert_exporter": "python",
   "pygments_lexer": "ipython3",
   "version": "3.11.9"
  }
 },
 "nbformat": 4,
 "nbformat_minor": 2
}
