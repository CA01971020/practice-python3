{
 "cells": [
  {
   "cell_type": "code",
   "execution_count": 4,
   "metadata": {},
   "outputs": [],
   "source": [
    "while True:\n",
    "    # input関数で入力が可能になる\n",
    "    # 但し、この場合は文字列型なので数値入力の場合は型を変換しないといけない\n",
    "    word = input(\"enter:\")\n",
    "    if word  == \"ok\":\n",
    "        break\n",
    "    print(\"next\")"
   ]
  },
  {
   "cell_type": "code",
   "execution_count": 5,
   "metadata": {},
   "outputs": [],
   "source": [
    "while True:\n",
    "    word = input(\"enter:\")\n",
    "    num = int(word)\n",
    "    ## 100が入力されたらbreakで処理を終了する\n",
    "    if num == 100:\n",
    "        break\n",
    "    print(\"next\")"
   ]
  }
 ],
 "metadata": {
  "kernelspec": {
   "display_name": "Python 3",
   "language": "python",
   "name": "python3"
  },
  "language_info": {
   "codemirror_mode": {
    "name": "ipython",
    "version": 3
   },
   "file_extension": ".py",
   "mimetype": "text/x-python",
   "name": "python",
   "nbconvert_exporter": "python",
   "pygments_lexer": "ipython3",
   "version": "3.11.9"
  }
 },
 "nbformat": 4,
 "nbformat_minor": 2
}
