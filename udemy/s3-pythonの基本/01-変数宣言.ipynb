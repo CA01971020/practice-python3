{
 "cells": [
  {
   "cell_type": "code",
   "execution_count": 1,
   "metadata": {},
   "outputs": [
    {
     "name": "stdout",
     "output_type": "stream",
     "text": [
      "2003 <class 'int'> hii <class 'str'> True <class 'bool'>\n"
     ]
    }
   ],
   "source": [
    "# type関数で型の確認ができる\n",
    "num = 2003\n",
    "name = \"hii\"\n",
    "is_ok = True\n",
    "print(num,type(num),name,type(name),is_ok,type(is_ok))"
   ]
  },
  {
   "cell_type": "code",
   "execution_count": 2,
   "metadata": {},
   "outputs": [
    {
     "name": "stdout",
     "output_type": "stream",
     "text": [
      "1 <class 'str'> 1 <class 'int'>\n"
     ]
    }
   ],
   "source": [
    "# 型変換\n",
    "a = \"1\"\n",
    "new_num = int(a)\n",
    "print(a,type(a),new_num,type(new_num))\n",
    "\n",
    "# 変数の最初を数字にするとsyntaxエラーになる。\n",
    "# 例：1num"
   ]
  }
 ],
 "metadata": {
  "kernelspec": {
   "display_name": "Python 3",
   "language": "python",
   "name": "python3"
  },
  "language_info": {
   "codemirror_mode": {
    "name": "ipython",
    "version": 3
   },
   "file_extension": ".py",
   "mimetype": "text/x-python",
   "name": "python",
   "nbconvert_exporter": "python",
   "pygments_lexer": "ipython3",
   "version": "3.11.9"
  }
 },
 "nbformat": 4,
 "nbformat_minor": 2
}
