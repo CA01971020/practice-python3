{
 "cells": [
  {
   "cell_type": "code",
   "execution_count": null,
   "metadata": {},
   "outputs": [],
   "source": [
    "# type関数で型の確認ができる\n",
    "num = 2003\n",
    "name = \"hii\"\n",
    "is_ok = True\n",
    "print(num,type(num),name,type(name),is_ok,type(is_ok))"
   ]
  }
 ],
 "metadata": {
  "language_info": {
   "name": "python"
  }
 },
 "nbformat": 4,
 "nbformat_minor": 2
}
