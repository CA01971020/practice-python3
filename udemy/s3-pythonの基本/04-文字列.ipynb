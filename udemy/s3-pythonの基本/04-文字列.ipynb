{
 "cells": [
  {
   "cell_type": "code",
   "execution_count": null,
   "metadata": {},
   "outputs": [],
   "source": [
    "#基本出力\n",
    "print('aa')\n",
    "print(\"bb\")"
   ]
  },
  {
   "cell_type": "code",
   "execution_count": null,
   "metadata": {},
   "outputs": [],
   "source": [
    "# バックスラッシュでエラー回避\n",
    "print(\"c\\\"c\")\n",
    "# バックスラッシュnで改行\n",
    "print(\"hello.\\nHow are you?\")"
   ]
  },
  {
   "cell_type": "code",
   "execution_count": null,
   "metadata": {},
   "outputs": [],
   "source": [
    "# ダブルクオート三つで改行\n",
    "print(\"\"\"\n",
    "line1\n",
    "line2\n",
    "line3\n",
    "\"\"\")"
   ]
  },
  {
   "cell_type": "code",
   "execution_count": null,
   "metadata": {},
   "outputs": [],
   "source": [
    "# 演算子も使える\n",
    "print(\"Hi.\" * 3 + \"mike\")"
   ]
  }
 ],
 "metadata": {
  "language_info": {
   "name": "python"
  }
 },
 "nbformat": 4,
 "nbformat_minor": 2
}
