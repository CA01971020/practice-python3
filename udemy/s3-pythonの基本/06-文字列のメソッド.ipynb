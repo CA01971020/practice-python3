{
 "cells": [
  {
   "cell_type": "code",
   "execution_count": 7,
   "metadata": {},
   "outputs": [
    {
     "name": "stdout",
     "output_type": "stream",
     "text": [
      "My name is Hii.\n",
      "True\n",
      "False\n"
     ]
    }
   ],
   "source": [
    "# 指定した文字から始まっているか確認するメソッド\n",
    "## startswith\n",
    "s = \"My name is Hii.\"\n",
    "print(s)\n",
    "\n",
    "# Myから始まっているか\n",
    "is_start = s.startswith(\"My\")\n",
    "print(is_start) # true\n",
    "# aaaaから始まっているか\n",
    "is_start  = s.startswith(\"aaaa\")\n",
    "print(is_start) #false"
   ]
  },
  {
   "cell_type": "code",
   "execution_count": 9,
   "metadata": {},
   "outputs": [
    {
     "name": "stdout",
     "output_type": "stream",
     "text": [
      "My name is Hii.aaa\n",
      "11\n",
      "11\n",
      "1\n"
     ]
    }
   ],
   "source": [
    "# 文字がどこにあるか調べてくれるメソッド\n",
    "## find\n",
    "s = \"My name is Hii.aaa\"\n",
    "print(s)\n",
    "\n",
    "# 前からn番目で出力\n",
    "print(s.find(\"Hii\"))\n",
    "# 後ろからの場合\n",
    "print(s.rfind(\"Hii\"))"
   ]
  },
  {
   "cell_type": "code",
   "execution_count": null,
   "metadata": {},
   "outputs": [],
   "source": [
    "# どれくらい含まれているか調べてくれるメソッド\n",
    "## count\n",
    "s = \"My name is Hii.aaa\"\n",
    "print(s)\n",
    "# どれくらい含まれているか\n",
    "print(s.count(\"Hii\"))"
   ]
  }
 ],
 "metadata": {
  "kernelspec": {
   "display_name": "Python 3",
   "language": "python",
   "name": "python3"
  },
  "language_info": {
   "codemirror_mode": {
    "name": "ipython",
    "version": 3
   },
   "file_extension": ".py",
   "mimetype": "text/x-python",
   "name": "python",
   "nbconvert_exporter": "python",
   "pygments_lexer": "ipython3",
   "version": "3.11.9"
  }
 },
 "nbformat": 4,
 "nbformat_minor": 2
}
