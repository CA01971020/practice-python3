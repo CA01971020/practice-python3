{
 "cells": [
  {
   "cell_type": "code",
   "execution_count": 1,
   "metadata": {},
   "outputs": [
    {
     "name": "stdout",
     "output_type": "stream",
     "text": [
      "p\n",
      "n\n",
      "py\n",
      "pyt\n"
     ]
    }
   ],
   "source": [
    "# インデックス\n",
    "word = \"python\"\n",
    "print(word[0])\n",
    "print(word[-1])\n",
    "print(word[0:2]) #0～2番目まで\n",
    "print(word[:3]) #始めから3番目まで\n",
    "print(word[2:]) #2番目から最後まで\n",
    "\n",
    "## 入っていないのに呼び出そうとしてもエラーになる\n",
    "### 例：print(word[100])"
   ]
  },
  {
   "cell_type": "code",
   "execution_count": 2,
   "metadata": {},
   "outputs": [
    {
     "name": "stdout",
     "output_type": "stream",
     "text": [
      "jython\n"
     ]
    }
   ],
   "source": [
    "# 追加する場合\n",
    "word = \"python\"\n",
    "word = \"j\" + word[1:]\n",
    "print(word[:])\n",
    "\n",
    "# length関数もある\n",
    "n = len(word)\n",
    "print(n)"
   ]
  }
 ],
 "metadata": {
  "kernelspec": {
   "display_name": "Python 3",
   "language": "python",
   "name": "python3"
  },
  "language_info": {
   "codemirror_mode": {
    "name": "ipython",
    "version": 3
   },
   "file_extension": ".py",
   "mimetype": "text/x-python",
   "name": "python",
   "nbconvert_exporter": "python",
   "pygments_lexer": "ipython3",
   "version": "3.11.9"
  }
 },
 "nbformat": 4,
 "nbformat_minor": 2
}
