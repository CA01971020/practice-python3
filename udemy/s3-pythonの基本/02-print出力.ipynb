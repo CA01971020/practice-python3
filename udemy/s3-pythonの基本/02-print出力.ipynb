{
 "cells": [
  {
   "cell_type": "code",
   "execution_count": null,
   "metadata": {},
   "outputs": [],
   "source": [
    "# 空白区切り\n",
    "print(\"hi\",\"mike\")"
   ]
  },
  {
   "cell_type": "code",
   "execution_count": null,
   "metadata": {},
   "outputs": [],
   "source": [
    "# 区切りの指定\n",
    "print(\"hi\",\"mike\",sep=\",\")"
   ]
  },
  {
   "cell_type": "code",
   "execution_count": null,
   "metadata": {},
   "outputs": [],
   "source": [
    "# end はデフォルトで改行 endを空白にすると横繋がりになる\n",
    "print(\"hi\",\"mike\",sep=\",\",end=\"\")\n",
    "print(\"hi\",\"mike\",sep=\",\",end=\".\")"
   ]
  }
 ],
 "metadata": {
  "language_info": {
   "name": "python"
  }
 },
 "nbformat": 4,
 "nbformat_minor": 2
}
