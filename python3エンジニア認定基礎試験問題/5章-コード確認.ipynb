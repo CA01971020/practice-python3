{
 "cells": [
  {
   "cell_type": "code",
   "execution_count": 28,
   "metadata": {},
   "outputs": [
    {
     "name": "stdout",
     "output_type": "stream",
     "text": [
      "Hello world\n"
     ]
    }
   ],
   "source": [
    "default_message_1 = \"Hello\"\n",
    "\n",
    "def message(message_1 = default_message_1 , message_2 = \"\"):\n",
    "    print(f\"{message_1} {message_2}\")\n",
    "\n",
    "default_message_1 = \"こんにちは\"\n",
    "message_2 = \"world\"\n",
    "\n",
    "# 関数実行時にdefault値は評価されて再評価は行われない\n",
    "## この場合は、関数の引数massage_2にmessage_2で定義されたworldを入れるだけで、message1はdefault値を表示している\n",
    "message(message_2=message_2)"
   ]
  },
  {
   "cell_type": "code",
   "execution_count": 29,
   "metadata": {},
   "outputs": [
    {
     "name": "stdout",
     "output_type": "stream",
     "text": [
      "[1]\n",
      "[3, 4, 1]\n",
      "[1, 3]\n",
      "[5, 6, 4]\n",
      "[1, 3, 5]\n"
     ]
    }
   ],
   "source": [
    "def func(number,default_arg_list=[]):\n",
    "    default_arg_list.append(number)\n",
    "    return default_arg_list\n",
    "\n",
    "## 第二引数が指定されていないので、default_arg_list[]に1を追加\n",
    "print(func(1))\n",
    "## default_arg_list[3,4]の末尾に1を追加\n",
    "print(func(1,[3,4]))\n",
    "## 第二引数が指定されていないので、default_arg_list[]に3を追加\n",
    "print(func(3))\n",
    "## default_arg_list[5,6]の末尾に4を追加\n",
    "print(func(4,[5,6]))\n",
    "## 第二引数が指定されていないので、default_arg_list[]に5を追加\n",
    "print(func(5))"
   ]
  },
  {
   "cell_type": "code",
   "execution_count": 30,
   "metadata": {},
   "outputs": [
    {
     "name": "stdout",
     "output_type": "stream",
     "text": [
      "spam&ham&eggs\n"
     ]
    }
   ],
   "source": [
    "def concat (*args,sep=\"/\"):\n",
    "    return sep.join(args)\n",
    "\n",
    "words = [\"spam\",\"ham\",\"eggs\"]\n",
    "option = {\"sep\":\"&\"}\n",
    "\n",
    "print(concat(*words,**option))"
   ]
  },
  {
   "cell_type": "code",
   "execution_count": 31,
   "metadata": {},
   "outputs": [
    {
     "name": "stdout",
     "output_type": "stream",
     "text": [
      "3 2\n"
     ]
    }
   ],
   "source": [
    "func = lambda a ,b : (b + 1 , a * 2)\n",
    "x,y = 1, 2\n",
    "x,y = func(x,y)\n",
    "print(x,y)"
   ]
  },
  {
   "cell_type": "code",
   "execution_count": 32,
   "metadata": {},
   "outputs": [
    {
     "name": "stdout",
     "output_type": "stream",
     "text": [
      " docstringです \n"
     ]
    }
   ],
   "source": [
    "# 関数の説明を書く\n",
    "def func():\n",
    "    \"\"\" docstringです \"\"\"\n",
    "    pass\n",
    "\n",
    "# __doc__で呼び出す\n",
    "print(func.__doc__)"
   ]
  }
 ],
 "metadata": {
  "kernelspec": {
   "display_name": "Python 3",
   "language": "python",
   "name": "python3"
  },
  "language_info": {
   "codemirror_mode": {
    "name": "ipython",
    "version": 3
   },
   "file_extension": ".py",
   "mimetype": "text/x-python",
   "name": "python",
   "nbconvert_exporter": "python",
   "pygments_lexer": "ipython3",
   "version": "3.11.9"
  }
 },
 "nbformat": 4,
 "nbformat_minor": 2
}
