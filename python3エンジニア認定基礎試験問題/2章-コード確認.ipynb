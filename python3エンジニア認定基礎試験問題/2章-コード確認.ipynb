{
 "cells": [
  {
   "cell_type": "code",
   "execution_count": 2,
   "metadata": {},
   "outputs": [
    {
     "name": "stdout",
     "output_type": "stream",
     "text": [
      "Test-h-v\n"
     ]
    }
   ],
   "source": [
    "#問2\n",
    "text = ( #長い文字列の時に使用する\n",
    "    \"Test\"\n",
    "    \"-h\"\n",
    "    \"-v\"\n",
    ")\n",
    "print(text)"
   ]
  },
  {
   "cell_type": "code",
   "execution_count": 4,
   "metadata": {},
   "outputs": [
    {
     "name": "stdout",
     "output_type": "stream",
     "text": [
      "cde\n"
     ]
    }
   ],
   "source": [
    "# 問5\n",
    " #2~5に当たる文字を出力ではなく、a[0]b[1] | c[2] d[3] e[4] | f[5]g[6] ”2を含んだ5まで（5を含まない）を出力” \n",
    "word = \"abcdegf\"\n",
    "sliced_word = word[2:5]\n",
    "print(sliced_word)"
   ]
  },
  {
   "cell_type": "code",
   "execution_count": 7,
   "metadata": {},
   "outputs": [
    {
     "name": "stdout",
     "output_type": "stream",
     "text": [
      "価格：  15000\n"
     ]
    }
   ],
   "source": [
    "#問7\n",
    " #7は文字数の最小幅を7桁とし、dは10進数で出力することを意味する\n",
    " #不足している文字数は空白文字で表される\n",
    "price = 15000\n",
    "print(f\"価格：{price:7d}\")"
   ]
  },
  {
   "cell_type": "code",
   "execution_count": 6,
   "metadata": {},
   "outputs": [
    {
     "name": "stdout",
     "output_type": "stream",
     "text": [
      "πの値はおよそ3.14159である\n"
     ]
    }
   ],
   "source": [
    "#問8\n",
    " #.5fは小数点以下5桁を出力するという意味\n",
    "import math\n",
    "print(f\"πの値はおよそ{math.pi:.5f}である\")"
   ]
  }
 ],
 "metadata": {
  "kernelspec": {
   "display_name": "Python 3",
   "language": "python",
   "name": "python3"
  },
  "language_info": {
   "codemirror_mode": {
    "name": "ipython",
    "version": 3
   },
   "file_extension": ".py",
   "mimetype": "text/x-python",
   "name": "python",
   "nbconvert_exporter": "python",
   "pygments_lexer": "ipython3",
   "version": "3.11.9"
  }
 },
 "nbformat": 4,
 "nbformat_minor": 2
}
