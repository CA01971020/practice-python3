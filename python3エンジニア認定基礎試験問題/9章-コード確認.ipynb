{
 "cells": [
  {
   "cell_type": "code",
   "execution_count": null,
   "metadata": {},
   "outputs": [
    {
     "ename": "SyntaxError",
     "evalue": "unterminated string literal (detected at line 2) (408923846.py, line 2)",
     "output_type": "error",
     "traceback": [
      "\u001b[1;36m  Cell \u001b[1;32mIn[3], line 2\u001b[1;36m\u001b[0m\n\u001b[1;33m    a = \"1,000'\u001b[0m\n\u001b[1;37m        ^\u001b[0m\n\u001b[1;31mSyntaxError\u001b[0m\u001b[1;31m:\u001b[0m unterminated string literal (detected at line 2)\n"
     ]
    }
   ],
   "source": [
    "# ダブルクォーテーションとシングルクォーテーションで囲まれているためSyntaxErrorとなっている。\n",
    "a = \"1,000'\n",
    "print(int(a))"
   ]
  },
  {
   "cell_type": "code",
   "execution_count": null,
   "metadata": {},
   "outputs": [
    {
     "ename": "ValueError",
     "evalue": "invalid literal for int() with base 10: '1,000'",
     "output_type": "error",
     "traceback": [
      "\u001b[1;31m---------------------------------------------------------------------------\u001b[0m",
      "\u001b[1;31mValueError\u001b[0m                                Traceback (most recent call last)",
      "Cell \u001b[1;32mIn[6], line 2\u001b[0m\n\u001b[0;32m      1\u001b[0m a \u001b[38;5;241m=\u001b[39m \u001b[38;5;124m\"\u001b[39m\u001b[38;5;124m1,000\u001b[39m\u001b[38;5;124m\"\u001b[39m\n\u001b[1;32m----> 2\u001b[0m \u001b[38;5;28mprint\u001b[39m(\u001b[38;5;28;43mint\u001b[39;49m\u001b[43m(\u001b[49m\u001b[43ma\u001b[49m\u001b[43m)\u001b[49m)\n",
      "\u001b[1;31mValueError\u001b[0m: invalid literal for int() with base 10: '1,000'"
     ]
    }
   ],
   "source": [
    "# ,があるため、int型に変換できない\n",
    "a = \"1,000\"\n",
    "print(int(a))"
   ]
  },
  {
   "cell_type": "code",
   "execution_count": 11,
   "metadata": {},
   "outputs": [
    {
     "name": "stdout",
     "output_type": "stream",
     "text": [
      "ゼロ除算が行われました。\n",
      "-- \finally処理--\n",
      "結果:None\n",
      "#########################\n",
      "引数の型が不正です。\n",
      "-- \finally処理--\n",
      "結果:None\n"
     ]
    }
   ],
   "source": [
    "def divide(number , divider):\n",
    "    try:\n",
    "        answer = number / divider\n",
    "        return answer\n",
    "    except ZeroDivisionError:\n",
    "        print(\"ゼロ除算が行われました。\")\n",
    "    except TypeError:\n",
    "        print(\"引数の型が不正です。\")\n",
    "    finally:\n",
    "        print(\"-- \\finally処理--\")\n",
    "\n",
    "# 0で割っているのでZeroDivisionErrorとなる。\n",
    "ansewer1 = divide(100,0)\n",
    "print(f\"結果:{ansewer1}\")\n",
    "\n",
    "print(\"#########################\")\n",
    "\n",
    "# ansewerにはdivideが入っているが、引数の型が100,\"文字列の0\"となっており、TypeErrorとなる。\n",
    "ansewer2 = divide(100,\"0\")\n",
    "print(f\"結果:{ansewer2}\")"
   ]
  }
 ],
 "metadata": {
  "kernelspec": {
   "display_name": "Python 3",
   "language": "python",
   "name": "python3"
  },
  "language_info": {
   "codemirror_mode": {
    "name": "ipython",
    "version": 3
   },
   "file_extension": ".py",
   "mimetype": "text/x-python",
   "name": "python",
   "nbconvert_exporter": "python",
   "pygments_lexer": "ipython3",
   "version": "3.11.9"
  }
 },
 "nbformat": 4,
 "nbformat_minor": 2
}
