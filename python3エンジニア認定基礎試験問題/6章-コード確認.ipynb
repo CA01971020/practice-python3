{
 "cells": [
  {
   "cell_type": "code",
   "execution_count": null,
   "metadata": {},
   "outputs": [
    {
     "name": "stdout",
     "output_type": "stream",
     "text": [
      "deque(['apple', 'banana', 'lemon'])\n",
      "deque(['banana', 'lemon'])\n",
      "deque(['banana', 'lemon', 'mango'])\n"
     ]
    }
   ],
   "source": [
    "from collections import deque\n",
    "\n",
    "queue = deque([\"apple\",\"banana\"])\n",
    "\n",
    "queue.append(\"lemon\")\n",
    "print(queue)\n",
    "\n",
    "# 一番左を削除する(popleft)\n",
    "queue.popleft()\n",
    "print(queue)\n",
    "\n",
    "# 新しく追加する場合は右側\n",
    "queue.append(\"mango\")\n",
    "print(queue)"
   ]
  },
  {
   "cell_type": "code",
   "execution_count": null,
   "metadata": {},
   "outputs": [
    {
     "name": "stdout",
     "output_type": "stream",
     "text": [
      "{'b', 's', 'k'}\n"
     ]
    }
   ],
   "source": [
    "s1 = set(\"abcdefghijklmnopqrstu\")\n",
    "s2 = set(\"acdefghijlmnopqrtu\")\n",
    "\n",
    "# setを使うことでs1からs2の文字を引くことができる\n",
    "print(s1 - s2)"
   ]
  },
  {
   "cell_type": "code",
   "execution_count": null,
   "metadata": {},
   "outputs": [
    {
     "name": "stdout",
     "output_type": "stream",
     "text": [
      "{1: 1, 2: 16, 3: 81}\n"
     ]
    }
   ],
   "source": [
    "# 内包表記法\n",
    "print({x: x**4 for x in (1,2,3)})"
   ]
  }
 ],
 "metadata": {
  "kernelspec": {
   "display_name": "Python 3",
   "language": "python",
   "name": "python3"
  },
  "language_info": {
   "codemirror_mode": {
    "name": "ipython",
    "version": 3
   },
   "file_extension": ".py",
   "mimetype": "text/x-python",
   "name": "python",
   "nbconvert_exporter": "python",
   "pygments_lexer": "ipython3",
   "version": "3.11.9"
  }
 },
 "nbformat": 4,
 "nbformat_minor": 2
}
