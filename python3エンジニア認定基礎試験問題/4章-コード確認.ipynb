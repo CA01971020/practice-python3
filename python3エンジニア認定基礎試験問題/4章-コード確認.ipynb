{
 "cells": [
  {
   "cell_type": "code",
   "execution_count": 3,
   "metadata": {},
   "outputs": [
    {
     "name": "stdout",
     "output_type": "stream",
     "text": [
      "0 1\n",
      "False\n",
      "True\n"
     ]
    }
   ],
   "source": [
    "def num(Value):\n",
    "    return Value\n",
    "\n",
    "# andが続く場合、最初にFalseになった時点で処理が終了\n",
    "    # また、全てTrueの場合は最後のTrueが出力\n",
    "Value1 = num(0) and num(1) and num(2)\n",
    "# orが続く場合、最初にTrueになった時点で処理が終了\n",
    "Value2 = num(0) or num(1) or num(2)\n",
    "print(Value1 , Value2)\n",
    "\n",
    "#0はFalseになる\n",
    "if num(0) == True:\n",
    "    print(\"True\")\n",
    "else :\n",
    "    print(False)\n",
    "\n",
    "#1はTrueになる\n",
    "if num(1) == True:\n",
    "    print(\"True\")\n",
    "else :\n",
    "    print(False)"
   ]
  },
  {
   "cell_type": "code",
   "execution_count": 5,
   "metadata": {},
   "outputs": [
    {
     "name": "stdout",
     "output_type": "stream",
     "text": [
      "0\n",
      "1\n",
      "2\n",
      "3\n",
      "######\n",
      "0\n",
      "1\n",
      "2\n",
      "3\n",
      "######\n",
      "1\n",
      "2\n",
      "3\n",
      "######\n",
      "1\n",
      "3\n",
      "5\n",
      "7\n"
     ]
    }
   ],
   "source": [
    "# 4つ出力\n",
    "for i in range(4):\n",
    "    print(i)\n",
    "\n",
    "print(\"######\")\n",
    "\n",
    "# 0~4の範囲で出力（4つ）\n",
    "for i in range(0,4):\n",
    "    print(i)\n",
    "\n",
    "print(\"######\")\n",
    "\n",
    "# 1~4の範囲で出力（3つ）\n",
    "for i in range(1,4):\n",
    "    print(i)\n",
    "\n",
    "print(\"######\")\n",
    "\n",
    "# 1~8の範囲で2つ飛ばしで出力（4つ）\n",
    "for i in range(1,8,2):\n",
    "    print(i)\n"
   ]
  },
  {
   "cell_type": "code",
   "execution_count": 6,
   "metadata": {},
   "outputs": [
    {
     "name": "stdout",
     "output_type": "stream",
     "text": [
      "R\n"
     ]
    }
   ],
   "source": [
    "for i, c in enumerate(\"WORD\"):\n",
    "    if i == 2:\n",
    "        print(c)"
   ]
  },
  {
   "cell_type": "code",
   "execution_count": 8,
   "metadata": {},
   "outputs": [
    {
     "name": "stdout",
     "output_type": "stream",
     "text": [
      "['T', 'E', 'A']\n",
      "['T', 'A', 'E']\n"
     ]
    }
   ],
   "source": [
    "# reversedで逆順\n",
    "print(list(reversed(\"EAT\")))\n",
    "\n",
    "# sortedでアルファベット順になる\n",
    "print(list(reversed(sorted(\"EAT\"))))"
   ]
  },
  {
   "cell_type": "code",
   "execution_count": 13,
   "metadata": {},
   "outputs": [
    {
     "name": "stdout",
     "output_type": "stream",
     "text": [
      "1\n",
      "22\n",
      "333\n"
     ]
    }
   ],
   "source": [
    "# 数字が変数nに、文字列が変数cに格納される\n",
    "for n,c in zip([1,2,3],[\"1\",\"2\",\"3\"]):\n",
    "    # c*nなので、文字列nをcの数字分出力する\n",
    "    print(c * n)"
   ]
  }
 ],
 "metadata": {
  "kernelspec": {
   "display_name": "Python 3",
   "language": "python",
   "name": "python3"
  },
  "language_info": {
   "codemirror_mode": {
    "name": "ipython",
    "version": 3
   },
   "file_extension": ".py",
   "mimetype": "text/x-python",
   "name": "python",
   "nbconvert_exporter": "python",
   "pygments_lexer": "ipython3",
   "version": "3.11.9"
  }
 },
 "nbformat": 4,
 "nbformat_minor": 2
}
