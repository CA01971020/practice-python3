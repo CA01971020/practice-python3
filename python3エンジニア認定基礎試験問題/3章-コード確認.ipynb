{
 "cells": [
  {
   "cell_type": "code",
   "execution_count": 1,
   "metadata": {},
   "outputs": [
    {
     "name": "stdout",
     "output_type": "stream",
     "text": [
      "[1, 2] [4]\n"
     ]
    }
   ],
   "source": [
    "# 問2\n",
    "#スライスの問題\n",
    "data = [1,2,3,4] \n",
    "print(data[:2],data[3:])"
   ]
  },
  {
   "cell_type": "code",
   "execution_count": 6,
   "metadata": {},
   "outputs": [
    {
     "name": "stdout",
     "output_type": "stream",
     "text": [
      "[4, 3, 2, 1]\n",
      "[]\n"
     ]
    }
   ],
   "source": [
    "# 問7\n",
    "stack = [1,2,3,4]\n",
    "data = []\n",
    "while stack:\n",
    "    # 配列dataにstackのデータを追加する。その際にstackはpopで削除している。\n",
    "    data.append(stack.pop())\n",
    "    # appendはstackの0番目から配列dataに入れるので逆順になる。\n",
    "print(data)\n",
    "print(stack)"
   ]
  }
 ],
 "metadata": {
  "kernelspec": {
   "display_name": "Python 3",
   "language": "python",
   "name": "python3"
  },
  "language_info": {
   "codemirror_mode": {
    "name": "ipython",
    "version": 3
   },
   "file_extension": ".py",
   "mimetype": "text/x-python",
   "name": "python",
   "nbconvert_exporter": "python",
   "pygments_lexer": "ipython3",
   "version": "3.11.9"
  }
 },
 "nbformat": 4,
 "nbformat_minor": 2
}
